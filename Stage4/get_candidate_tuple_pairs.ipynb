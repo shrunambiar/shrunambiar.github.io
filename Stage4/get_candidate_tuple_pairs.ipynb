{
 "cells": [
  {
   "cell_type": "code",
   "execution_count": 1,
   "metadata": {
    "collapsed": true
   },
   "outputs": [],
   "source": [
    "import numpy as np\n",
    "from sklearn.model_selection import train_test_split\n",
    "from sklearn import datasets\n",
    "from sklearn.linear_model import LogisticRegression,LinearRegression\n",
    "from sklearn.svm import SVC\n",
    "from sklearn.tree import DecisionTreeClassifier\n",
    "from sklearn.naive_bayes import GaussianNB\n",
    "from sklearn import tree\n",
    "import pandas as pd\n",
    "from sklearn.model_selection import StratifiedKFold"
   ]
  },
  {
   "cell_type": "code",
   "execution_count": 2,
   "metadata": {},
   "outputs": [
    {
     "name": "stderr",
     "output_type": "stream",
     "text": [
      "No handlers could be found for logger \"py_entitymatching.io.parsers\"\n"
     ]
    }
   ],
   "source": [
    "import py_entitymatching as em\n",
    "A = em.read_csv_metadata('new1_1.csv', key='ID')\n",
    "B = em.read_csv_metadata('new2_1.csv', key='ID')\n"
   ]
  },
  {
   "cell_type": "code",
   "execution_count": null,
   "metadata": {},
   "outputs": [
    {
     "data": {
      "text/plain": [
       "830"
      ]
     },
     "execution_count": 3,
     "metadata": {},
     "output_type": "execute_result"
    }
   ],
   "source": [
    "ob = em.OverlapBlocker()\n",
    "C1 = ob.block_tables(A, B, 'Name', 'Name', word_level=True, overlap_size=3, \n",
    "                    l_output_attrs=list(A.columns), \n",
    "                    r_output_attrs=list(B.columns),\n",
    "                    show_progress=False)\n",
    "C3 = ob.block_candset(C1, 'Resolution', 'Resolution',overlap_size=4,show_progress=False)\n",
    "len(C3)"
   ]
  },
  {
   "cell_type": "code",
   "execution_count": null,
   "metadata": {},
   "outputs": [
    {
     "name": "stdout",
     "output_type": "stream",
     "text": [
      "The table shows the corresponding attributes along with their respective types.\n",
      "Please confirm that the information  has been correctly inferred.\n",
      "If you would like to skip this validation process in the future,\n",
      "please set the flag validate_inferred_attr_types equal to false.\n"
     ]
    },
    {
     "data": {
      "text/html": [
       "<div>\n",
       "<style scoped>\n",
       "    .dataframe tbody tr th:only-of-type {\n",
       "        vertical-align: middle;\n",
       "    }\n",
       "\n",
       "    .dataframe tbody tr th {\n",
       "        vertical-align: top;\n",
       "    }\n",
       "\n",
       "    .dataframe thead th {\n",
       "        text-align: right;\n",
       "    }\n",
       "</style>\n",
       "<table border=\"1\" class=\"dataframe\">\n",
       "  <thead>\n",
       "    <tr style=\"text-align: right;\">\n",
       "      <th></th>\n",
       "      <th>Left Attribute</th>\n",
       "      <th>Right Attribute</th>\n",
       "      <th>Left Attribute Type</th>\n",
       "      <th>Right Attribute Type</th>\n",
       "      <th>Example Features</th>\n",
       "    </tr>\n",
       "  </thead>\n",
       "  <tbody>\n",
       "    <tr>\n",
       "      <th>0</th>\n",
       "      <td>ID</td>\n",
       "      <td>ID</td>\n",
       "      <td>numeric</td>\n",
       "      <td>numeric</td>\n",
       "      <td>Exact Match; Absolute Norm</td>\n",
       "    </tr>\n",
       "    <tr>\n",
       "      <th>1</th>\n",
       "      <td>3.5mm jack</td>\n",
       "      <td>3.5mm jack</td>\n",
       "      <td>short string (1 word to 5 words)</td>\n",
       "      <td>short string (1 word)</td>\n",
       "      <td>Not Applicable: Types do not match</td>\n",
       "    </tr>\n",
       "    <tr>\n",
       "      <th>2</th>\n",
       "      <td>Battery</td>\n",
       "      <td>Battery</td>\n",
       "      <td>numeric</td>\n",
       "      <td>numeric</td>\n",
       "      <td>Exact Match; Absolute Norm</td>\n",
       "    </tr>\n",
       "    <tr>\n",
       "      <th>3</th>\n",
       "      <td>Clock Speed</td>\n",
       "      <td>Clock Speed</td>\n",
       "      <td>short string (1 word to 5 words)</td>\n",
       "      <td>short string (1 word to 5 words)</td>\n",
       "      <td>Jaccard Similarity [3-grams, 3-grams]; Cosine Similarity [Space Delimiter, Space Delimiter]</td>\n",
       "    </tr>\n",
       "    <tr>\n",
       "      <th>4</th>\n",
       "      <td>Card slot</td>\n",
       "      <td>Card slot</td>\n",
       "      <td>medium string (5 words to 10 words)</td>\n",
       "      <td>short string (1 word to 5 words)</td>\n",
       "      <td>Not Applicable: Types do not match</td>\n",
       "    </tr>\n",
       "    <tr>\n",
       "      <th>5</th>\n",
       "      <td>GPS Support</td>\n",
       "      <td>GPS Support</td>\n",
       "      <td>short string (1 word)</td>\n",
       "      <td>short string (1 word)</td>\n",
       "      <td>Levenshtein Distance; Levenshtein Similarity</td>\n",
       "    </tr>\n",
       "    <tr>\n",
       "      <th>6</th>\n",
       "      <td>GPU</td>\n",
       "      <td>GPU</td>\n",
       "      <td>short string (1 word to 5 words)</td>\n",
       "      <td>short string (1 word to 5 words)</td>\n",
       "      <td>Jaccard Similarity [3-grams, 3-grams]; Cosine Similarity [Space Delimiter, Space Delimiter]</td>\n",
       "    </tr>\n",
       "    <tr>\n",
       "      <th>7</th>\n",
       "      <td>Internal Storage</td>\n",
       "      <td>Internal Storage</td>\n",
       "      <td>short string (1 word to 5 words)</td>\n",
       "      <td>short string (1 word to 5 words)</td>\n",
       "      <td>Jaccard Similarity [3-grams, 3-grams]; Cosine Similarity [Space Delimiter, Space Delimiter]</td>\n",
       "    </tr>\n",
       "    <tr>\n",
       "      <th>8</th>\n",
       "      <td>NFC</td>\n",
       "      <td>NFC</td>\n",
       "      <td>short string (1 word)</td>\n",
       "      <td>short string (1 word)</td>\n",
       "      <td>Levenshtein Distance; Levenshtein Similarity</td>\n",
       "    </tr>\n",
       "    <tr>\n",
       "      <th>9</th>\n",
       "      <td>Name</td>\n",
       "      <td>Name</td>\n",
       "      <td>short string (1 word to 5 words)</td>\n",
       "      <td>short string (1 word to 5 words)</td>\n",
       "      <td>Jaccard Similarity [3-grams, 3-grams]; Cosine Similarity [Space Delimiter, Space Delimiter]</td>\n",
       "    </tr>\n",
       "    <tr>\n",
       "      <th>10</th>\n",
       "      <td>OS</td>\n",
       "      <td>OS</td>\n",
       "      <td>short string (1 word to 5 words)</td>\n",
       "      <td>short string (1 word to 5 words)</td>\n",
       "      <td>Jaccard Similarity [3-grams, 3-grams]; Cosine Similarity [Space Delimiter, Space Delimiter]</td>\n",
       "    </tr>\n",
       "    <tr>\n",
       "      <th>11</th>\n",
       "      <td>Price</td>\n",
       "      <td>Price</td>\n",
       "      <td>short string (1 word to 5 words)</td>\n",
       "      <td>short string (1 word)</td>\n",
       "      <td>Not Applicable: Types do not match</td>\n",
       "    </tr>\n",
       "    <tr>\n",
       "      <th>12</th>\n",
       "      <td>Primary Camera</td>\n",
       "      <td>Primary Camera</td>\n",
       "      <td>short string (1 word to 5 words)</td>\n",
       "      <td>short string (1 word to 5 words)</td>\n",
       "      <td>Jaccard Similarity [3-grams, 3-grams]; Cosine Similarity [Space Delimiter, Space Delimiter]</td>\n",
       "    </tr>\n",
       "    <tr>\n",
       "      <th>13</th>\n",
       "      <td>Resolution</td>\n",
       "      <td>Resolution</td>\n",
       "      <td>medium string (5 words to 10 words)</td>\n",
       "      <td>short string (1 word to 5 words)</td>\n",
       "      <td>Not Applicable: Types do not match</td>\n",
       "    </tr>\n",
       "    <tr>\n",
       "      <th>14</th>\n",
       "      <td>SIM</td>\n",
       "      <td>SIM</td>\n",
       "      <td>short string (1 word to 5 words)</td>\n",
       "      <td>short string (1 word to 5 words)</td>\n",
       "      <td>Jaccard Similarity [3-grams, 3-grams]; Cosine Similarity [Space Delimiter, Space Delimiter]</td>\n",
       "    </tr>\n",
       "    <tr>\n",
       "      <th>15</th>\n",
       "      <td>Secondary Camera</td>\n",
       "      <td>Secondary Camera</td>\n",
       "      <td>short string (1 word to 5 words)</td>\n",
       "      <td>short string (1 word to 5 words)</td>\n",
       "      <td>Jaccard Similarity [3-grams, 3-grams]; Cosine Similarity [Space Delimiter, Space Delimiter]</td>\n",
       "    </tr>\n",
       "    <tr>\n",
       "      <th>16</th>\n",
       "      <td>Sensors</td>\n",
       "      <td>Sensors</td>\n",
       "      <td>short string (1 word to 5 words)</td>\n",
       "      <td>medium string (5 words to 10 words)</td>\n",
       "      <td>Not Applicable: Types do not match</td>\n",
       "    </tr>\n",
       "    <tr>\n",
       "      <th>17</th>\n",
       "      <td>Weight</td>\n",
       "      <td>Weight</td>\n",
       "      <td>short string (1 word to 5 words)</td>\n",
       "      <td>short string (1 word to 5 words)</td>\n",
       "      <td>Jaccard Similarity [3-grams, 3-grams]; Cosine Similarity [Space Delimiter, Space Delimiter]</td>\n",
       "    </tr>\n",
       "  </tbody>\n",
       "</table>\n",
       "</div>"
      ],
      "text/plain": [
       "      Left Attribute   Right Attribute                  Left Attribute Type  \\\n",
       "0                 ID                ID                              numeric   \n",
       "1         3.5mm jack        3.5mm jack     short string (1 word to 5 words)   \n",
       "2            Battery           Battery                              numeric   \n",
       "3        Clock Speed       Clock Speed     short string (1 word to 5 words)   \n",
       "4          Card slot         Card slot  medium string (5 words to 10 words)   \n",
       "5        GPS Support       GPS Support                short string (1 word)   \n",
       "6                GPU               GPU     short string (1 word to 5 words)   \n",
       "7   Internal Storage  Internal Storage     short string (1 word to 5 words)   \n",
       "8                NFC               NFC                short string (1 word)   \n",
       "9               Name              Name     short string (1 word to 5 words)   \n",
       "10                OS                OS     short string (1 word to 5 words)   \n",
       "11             Price             Price     short string (1 word to 5 words)   \n",
       "12    Primary Camera    Primary Camera     short string (1 word to 5 words)   \n",
       "13        Resolution        Resolution  medium string (5 words to 10 words)   \n",
       "14               SIM               SIM     short string (1 word to 5 words)   \n",
       "15  Secondary Camera  Secondary Camera     short string (1 word to 5 words)   \n",
       "16           Sensors           Sensors     short string (1 word to 5 words)   \n",
       "17            Weight            Weight     short string (1 word to 5 words)   \n",
       "\n",
       "                   Right Attribute Type  \\\n",
       "0                               numeric   \n",
       "1                 short string (1 word)   \n",
       "2                               numeric   \n",
       "3      short string (1 word to 5 words)   \n",
       "4      short string (1 word to 5 words)   \n",
       "5                 short string (1 word)   \n",
       "6      short string (1 word to 5 words)   \n",
       "7      short string (1 word to 5 words)   \n",
       "8                 short string (1 word)   \n",
       "9      short string (1 word to 5 words)   \n",
       "10     short string (1 word to 5 words)   \n",
       "11                short string (1 word)   \n",
       "12     short string (1 word to 5 words)   \n",
       "13     short string (1 word to 5 words)   \n",
       "14     short string (1 word to 5 words)   \n",
       "15     short string (1 word to 5 words)   \n",
       "16  medium string (5 words to 10 words)   \n",
       "17     short string (1 word to 5 words)   \n",
       "\n",
       "                                                                               Example Features  \n",
       "0                                                                    Exact Match; Absolute Norm  \n",
       "1                                                            Not Applicable: Types do not match  \n",
       "2                                                                    Exact Match; Absolute Norm  \n",
       "3   Jaccard Similarity [3-grams, 3-grams]; Cosine Similarity [Space Delimiter, Space Delimiter]  \n",
       "4                                                            Not Applicable: Types do not match  \n",
       "5                                                  Levenshtein Distance; Levenshtein Similarity  \n",
       "6   Jaccard Similarity [3-grams, 3-grams]; Cosine Similarity [Space Delimiter, Space Delimiter]  \n",
       "7   Jaccard Similarity [3-grams, 3-grams]; Cosine Similarity [Space Delimiter, Space Delimiter]  \n",
       "8                                                  Levenshtein Distance; Levenshtein Similarity  \n",
       "9   Jaccard Similarity [3-grams, 3-grams]; Cosine Similarity [Space Delimiter, Space Delimiter]  \n",
       "10  Jaccard Similarity [3-grams, 3-grams]; Cosine Similarity [Space Delimiter, Space Delimiter]  \n",
       "11                                                           Not Applicable: Types do not match  \n",
       "12  Jaccard Similarity [3-grams, 3-grams]; Cosine Similarity [Space Delimiter, Space Delimiter]  \n",
       "13                                                           Not Applicable: Types do not match  \n",
       "14  Jaccard Similarity [3-grams, 3-grams]; Cosine Similarity [Space Delimiter, Space Delimiter]  \n",
       "15  Jaccard Similarity [3-grams, 3-grams]; Cosine Similarity [Space Delimiter, Space Delimiter]  \n",
       "16                                                           Not Applicable: Types do not match  \n",
       "17  Jaccard Similarity [3-grams, 3-grams]; Cosine Similarity [Space Delimiter, Space Delimiter]  "
      ]
     },
     "metadata": {},
     "output_type": "display_data"
    }
   ],
   "source": [
    "l_data = em.read_csv_metadata('labeled_data1.csv', key='_id', \n",
    "                         fk_ltable='ltable_ID', fk_rtable='rtable_ID',\n",
    "                         ltable=A, rtable=B)\n",
    "match_f = em.get_features_for_matching(A, B)\n",
    "H = em.extract_feature_vecs(l_data, feature_table=match_f,attrs_before = None, attrs_after=['Class'])\n",
    "H.fillna(value=0, inplace=True)"
   ]
  },
  {
   "cell_type": "code",
   "execution_count": null,
   "metadata": {
    "collapsed": true
   },
   "outputs": [],
   "source": [
    "train_test = em.split_train_test(H, train_proportion=0.7)\n",
    "train_set = train_test['train']\n",
    "test_set = train_test['test']\n",
    "train_set.to_csv('training_split')\n",
    "test_set.to_csv('test_split')\n",
    "train_labels = train_set['Class']\n",
    "test_labels = test_set['Class']\n",
    "#del train_set['Class']"
   ]
  },
  {
   "cell_type": "code",
   "execution_count": null,
   "metadata": {
    "scrolled": true
   },
   "outputs": [],
   "source": [
    "rf= em.RFMatcher()\n",
    "rf.fit(table=train_set, exclude_attrs=['_id', 'ltable_ID', 'rtable_ID', 'Class'], target_attr='Class')\n",
    "match_f = em.get_features_for_matching(A, B)\n",
    "new = em.extract_feature_vecs(C3, feature_table=match_f,attrs_before = None)\n",
    "new.fillna(value=0, inplace=True)\n",
    "\n",
    "\n",
    "op = rf.predict(table=new,  exclude_attrs=['_id', 'ltable_ID', 'rtable_ID'],  append=True, target_attr='Predicted_Labels')\n",
    "\n",
    "\n",
    "df1=op[op['Predicted_Labels']==1]\n",
    "df2=df1[['ltable_ID','rtable_ID']]\n",
    "\n",
    "df3=op[op['Predicted_Labels']==0]\n",
    "unmatched_id=df3[['ltable_ID','rtable_ID']]\n"
   ]
  },
  {
   "cell_type": "code",
   "execution_count": null,
   "metadata": {},
   "outputs": [],
   "source": [
    "df2\n"
   ]
  },
  {
   "cell_type": "code",
   "execution_count": null,
   "metadata": {},
   "outputs": [],
   "source": [
    "\n",
    "x = A[A['ID'].isin(df2['ltable_ID'])]\n",
    "y = B[B['ID'].isin(df2['rtable_ID'])]\n"
   ]
  },
  {
   "cell_type": "code",
   "execution_count": null,
   "metadata": {},
   "outputs": [],
   "source": [
    "x.head()"
   ]
  },
  {
   "cell_type": "code",
   "execution_count": null,
   "metadata": {},
   "outputs": [],
   "source": [
    "y.reset_index(drop=True)"
   ]
  },
  {
   "cell_type": "code",
   "execution_count": null,
   "metadata": {
    "collapsed": true
   },
   "outputs": [],
   "source": [
    "dfn = pd.concat([x,y], axis=1)\n",
    "dfn.to_csv(\"matches.csv\")"
   ]
  },
  {
   "cell_type": "code",
   "execution_count": null,
   "metadata": {
    "collapsed": true
   },
   "outputs": [],
   "source": [
    "l_list1 = [93, 104, 272, 296, 361, 462, 492, 602, 705, 850, 865, 915, 920, 1014, 1084, 1106, 1136, 1184, 1326, 1392, 1474, 1511, 1561, 1625, 1775, 1926, 1932, 2038, 2072, 2108, 2124, 2139, 2150, 2167, 2234, 2241, 2292, 2333, 2390, 2410, 2470, 2534, 2591, 2594, 2600, 2666, 2680, 2695, 2710, 2754, 2831, 2885, 3025, 3127, 3175, 3224]"
   ]
  },
  {
   "cell_type": "code",
   "execution_count": null,
   "metadata": {
    "collapsed": true
   },
   "outputs": [],
   "source": [
    "l_list2 = list(unmatched_id['ltable_ID'])\n",
    "rlist = list(unmatched_id['rtable_ID'])\n",
    "set_l = set(l_list1) | set(l_list2)\n",
    "set_r = set(rlist)\n",
    "\n",
    "final_l_list = list(set_l)\n",
    "final_rlist = list(set_r)"
   ]
  },
  {
   "cell_type": "code",
   "execution_count": null,
   "metadata": {},
   "outputs": [],
   "source": [
    "A.head()"
   ]
  },
  {
   "cell_type": "code",
   "execution_count": null,
   "metadata": {},
   "outputs": [],
   "source": [
    "A[A['ID'] == 93]"
   ]
  },
  {
   "cell_type": "code",
   "execution_count": null,
   "metadata": {},
   "outputs": [],
   "source": [
    "C3[C3['ltable_ID']==93]['ltable_Name']"
   ]
  },
  {
   "cell_type": "code",
   "execution_count": null,
   "metadata": {},
   "outputs": [],
   "source": [
    "filtered_l = A[A['ID'].isin(final_l_list)]\n",
    "filtered_r = B[B['ID'].isin(final_rlist)]\n",
    "df = filtered_l.append(filtered_r)\n",
    "df\n"
   ]
  },
  {
   "cell_type": "code",
   "execution_count": null,
   "metadata": {},
   "outputs": [],
   "source": [
    "len(final_l_list)"
   ]
  },
  {
   "cell_type": "code",
   "execution_count": null,
   "metadata": {},
   "outputs": [],
   "source": [
    "len(final_rlist)"
   ]
  },
  {
   "cell_type": "code",
   "execution_count": null,
   "metadata": {
    "collapsed": true
   },
   "outputs": [],
   "source": [
    "rlist2 = [1, 21, 22, 24, 60, 77, 80, 81, 123, 133, 134, 162, 165, 171, 179, 231, 239, 243, 343, 349, 355, 358, 486, 504, 548, 568, 629, 636, 665, 749, 755, 830, 861, 921, 1006, 1010, 1066, 1077, 1078, 1158, 1163, 1398, 1404, 1407, 1418, 1473, 1488, 1493]"
   ]
  },
  {
   "cell_type": "code",
   "execution_count": null,
   "metadata": {
    "collapsed": true
   },
   "outputs": [],
   "source": [
    "set_r2 = set(rlist2)"
   ]
  },
  {
   "cell_type": "code",
   "execution_count": null,
   "metadata": {
    "collapsed": true
   },
   "outputs": [],
   "source": [
    "set_r_inter = set_r & set_r2"
   ]
  },
  {
   "cell_type": "code",
   "execution_count": null,
   "metadata": {
    "collapsed": true
   },
   "outputs": [],
   "source": [
    "final_rlist = list(set_r - set_r_inter)"
   ]
  },
  {
   "cell_type": "code",
   "execution_count": null,
   "metadata": {},
   "outputs": [],
   "source": [
    "filtered_l = A[A['ID'].isin(final_l_list)]\n",
    "filtered_r = B[B['ID'].isin(final_rlist)]\n",
    "df = filtered_l.append(filtered_r)\n",
    "df"
   ]
  },
  {
   "cell_type": "code",
   "execution_count": null,
   "metadata": {
    "collapsed": true
   },
   "outputs": [],
   "source": [
    "import pandas as pd\n",
    "import matplotlib.pyplot as plt\n",
    "#%matplotlib inline\n",
    "data=pd.read_csv(\"Merged2.csv\")\n",
    "sec_cam=data['Secondary Camera'].apply(lambda x:str(x).split(\"MP\")[0])\n",
    "data.insert(1,\"sec_cam\",sec_cam)\n",
    "\n",
    "\n",
    "\n"
   ]
  },
  {
   "cell_type": "code",
   "execution_count": null,
   "metadata": {},
   "outputs": [],
   "source": [
    "import py_entitymatching as em\n",
    "A = em.read_csv_metadata('new1_1.csv', key='ID')#Files before cleaning\n",
    "B = em.read_csv_metadata('new2_1.csv', key='ID')\n",
    "\n",
    "\n",
    "rf= em.RFMatcher()\n",
    "rf.fit(table=train_set, exclude_attrs=['_id', 'ltable_ID', 'rtable_ID', 'Class'], target_attr='Class')\n",
    "match_f = em.get_features_for_matching(A, B)\n",
    "new = em.extract_feature_vecs(C3, feature_table=match_f,attrs_before = None)\n",
    "new.fillna(value=0, inplace=True)\n",
    "\n",
    "\n",
    "op = rf.predict(table=new,  exclude_attrs=['_id', 'ltable_ID', 'rtable_ID'],  append=True, target_attr='Predicted_Labels')\n",
    "\n",
    "\n",
    "df1=op[op['Predicted_Labels']==1]\n",
    "df1.to_csv(\"matches.csv\")\n",
    "df2=df1[['ltable_ID','rtable_ID']]\n",
    "df2.to_csv(\"matching.csv\")\n",
    "df3=op[op['Predicted_Labels']==0]\n",
    "\n",
    "unmatched_id=df3[['ltable_ID','rtable_ID']]\n",
    "\n",
    "\n",
    "l_lmatched = set([93, 104, 272, 296, 361, 462, 492, 602, 705, 850, 865, 915, 920, 1014, 1084, 1106, 1136, 1184, 1326, 1392, 1474, 1511, 1561, 1625, 1775, 1926, 1932, 2038, 2072, 2108, 2124, 2139, 2150, 2167, 2234, 2241, 2292, 2333, 2390, 2410, 2470, 2534, 2591, 2594, 2600, 2666, 2680, 2695, 2710, 2754, 2831, 2885, 3025, 3127, 3175, 3224])\n",
    "r_matched = set([93, 104, 272, 296, 361, 462, 492, 602, 705, 850, 865, 915, 920, 1014, 1084, 1106, 1136, 1184, 1326, 1392, 1474, 1511, 1561, 1625, 1775, 1926, 1932, 2038, 2072, 2108, 2124, 2139, 2150, 2167, 2234, 2241, 2292, 2333, 2390, 2410, 2470, 2534, 2591, 2594, 2600, 2666, 2680, 2695, 2710, 2754, 2831, 2885, 3025, 3127, 3175, 3224])\n",
    "l_unmatched = set(list(unmatched_id['ltable_ID']))\n",
    "r_unmatched = set(list(unmatched_id['rtable_ID']))\n",
    "op1= l_lmatched.union(l_unmatched)\n",
    "op2= r_unmatched.difference(r_matched) \n",
    "out1 = A[A['ID'].isin(op1)]\n",
    "out2 = B[B['ID'].isin(op2)]\n",
    "datanew = out1.append(out2)\n",
    "datanew.to_csv(\"final_list.csv\")"
   ]
  },
  {
   "cell_type": "code",
   "execution_count": null,
   "metadata": {
    "collapsed": true
   },
   "outputs": [],
   "source": []
  }
 ],
 "metadata": {
  "kernelspec": {
   "display_name": "Python 2",
   "language": "python",
   "name": "python2"
  },
  "language_info": {
   "codemirror_mode": {
    "name": "ipython",
    "version": 2
   },
   "file_extension": ".py",
   "mimetype": "text/x-python",
   "name": "python",
   "nbconvert_exporter": "python",
   "pygments_lexer": "ipython2",
   "version": "2.7.14"
  }
 },
 "nbformat": 4,
 "nbformat_minor": 2
}
